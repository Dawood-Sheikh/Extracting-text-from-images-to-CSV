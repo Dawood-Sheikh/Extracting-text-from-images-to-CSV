{
 "cells": [
  {
   "cell_type": "code",
   "execution_count": 1,
   "metadata": {},
   "outputs": [],
   "source": [
    "import pandas as pd\n",
    "import cv2 \n",
    "import re\n",
    "import pytesseract\n",
    "pytesseract.pytesseract.tesseract_cmd=r'D:\\\\Tesseract\\\\tesseract.exe'"
   ]
  },
  {
   "cell_type": "code",
   "execution_count": 2,
   "metadata": {},
   "outputs": [],
   "source": [
    "# Reading the imagae and converting the information in string using pytesseract and OpenCV\n",
    "data = []\n",
    "for i in range(9):\n",
    "    img = cv2.imread('extracted_images/Label_page-000{}.jpg'.format(i+1))\n",
    "    # Assuming the picture as a single uniform block of text by configuring it using '--psm 6'\n",
    "    text = pytesseract.image_to_string(img, lang='eng', config='--psm 6')\n",
    "    temp = text.replace('\\n', ' ')\n",
    "    data.append(temp)"
   ]
  },
  {
   "cell_type": "code",
   "execution_count": 3,
   "metadata": {},
   "outputs": [],
   "source": [
    "# Reading the imagae and converting the information in string using pytesseract and OpenCV\n",
    "data1 = []\n",
    "for i in range(7):\n",
    "    img1 = cv2.imread('images/result_Page_{}.jpg'.format(i+1))\n",
    "    # Assuming the picture as a single uniform block of text by configuring it using '--psm 6'\n",
    "    text1 = pytesseract.image_to_string(img1, lang='eng', config='--psm 6')\n",
    "    temp1 = text1.replace('\\n', ' ')\n",
    "    data1.append(temp1)"
   ]
  },
  {
   "cell_type": "code",
   "execution_count": 4,
   "metadata": {},
   "outputs": [
    {
     "data": {
      "text/plain": [
       "['AFRICA Device Name: Bi-Pap Machine REF NML803110 Qty: 1 LOT: 34669 AN @ 2 + ',\n",
       " 'INDIA Device Name: Blood Warmer REF NML903090 Qty: 1 LOT: 34641 STERILE ',\n",
       " 'USA Device Name: C-Pap Machine REF NML903105 Qty: 1 LOT: 34662 STERILE al <p ',\n",
       " 'USA Device Name: ECG Machine REF NML903060 Qty: 9 LOT: 34690 Cl] & 26 -* ',\n",
       " 'EU  Device Name: HFNC Machine  REF NML903095 Qty: 5 LOT: 34648 ',\n",
       " 'EU  Device Name: Infusion Pump  REF NML903065 Qty: 10 LOT: 34697 ',\n",
       " 'EU Device Name: NIBP Monitor Cc € REF NML903050 Qty: 5 LOT: 34676  stent | [ [2] 2 ',\n",
       " 'IRAQ Device Name: Oxygen Concentrator Cc € REF NML903100 Qty: 2 LOT: 34655  aN BS ',\n",
       " 'INDIA  Device Name: Pulse Oximeter  REF NML903055 Qty: 4 LOT: 34683 ']"
      ]
     },
     "execution_count": 4,
     "metadata": {},
     "output_type": "execute_result"
    }
   ],
   "source": [
    "data"
   ]
  },
  {
   "cell_type": "code",
   "execution_count": 5,
   "metadata": {},
   "outputs": [
    {
     "data": {
      "text/plain": [
       "['INDIA  Device Name: Pulse Oximeter  REF NML903055 Qty: 4 LOT: 34683 ',\n",
       " 'INDIA Device Name: Blood Warmer REF NML903090 Qty: 1 LOT: 34641 STERILE ',\n",
       " 'USA Device Name: C-Pap Machine REF NML903105 Qty: 1 LOT: 34662 STERILE aS ',\n",
       " 'USA Device Name: ECG Machine REF NML903060 Qty: 9 LOT: 34690 Cs] as =< ',\n",
       " 'EU  Device Name: HFNC Machine  REF NML903095 Qty: 5 LOT: 34648 ',\n",
       " 'EU  Device Name: Infusion Pump  REF NML903065 Qty: 10 LOT: 34697 ',\n",
       " 'EU Device Name: NIBP Monitor Cc € REF NML903050 Qty: 5 LOT: 34676  sTeRLE| [ [a] a< ']"
      ]
     },
     "execution_count": 5,
     "metadata": {},
     "output_type": "execute_result"
    }
   ],
   "source": [
    "data1"
   ]
  },
  {
   "cell_type": "code",
   "execution_count": 6,
   "metadata": {},
   "outputs": [],
   "source": [
    "def convert(data, file_name):\n",
    "    \n",
    "    #Converting the extracted information into dataframe\n",
    "    df = pd.DataFrame(data, columns= ['Data'])\n",
    "\n",
    "    # Extracting 'Device Name' from the data into new column\n",
    "    info = []\n",
    "    for i in df['Data']:\n",
    "        m = re.search('Name:(.+?) REF', i)\n",
    "        info.append(m.group(1))\n",
    "    df['Device Name'] = info\n",
    "    df['Device Name'] = df['Device Name'].str.replace(' Cc €', '')\n",
    "\n",
    "    # Extracting 'REF' from the data into new column\n",
    "    info = []\n",
    "    for i in df['Data']:\n",
    "        m = re.search('REF (.+?) Qty:', i)\n",
    "        info.append(m.group(1))\n",
    "    df['REF'] = info\n",
    "\n",
    "    # Extracting 'LOT' from the data into new column\n",
    "    info = []\n",
    "    for i in df['Data']:\n",
    "        m = re.search('LOT: (.+?) ', i)\n",
    "        info.append(m.group(1))\n",
    "    df['LOT'] = info\n",
    "    \n",
    "    # Extracting 'Qty' from the data into new column\n",
    "    info = []\n",
    "    for i in df['Data']:\n",
    "        m = re.search('Qty: (.+?) LOT:', i)\n",
    "        info.append(m.group(1))\n",
    "    df['Qty'] = info\n",
    "\n",
    "    # Deleating 'Data' column\n",
    "    df.drop(['Data'], axis = 1, inplace = True)\n",
    "\n",
    "    # Exporting the dataframe into csv file\n",
    "    df.to_csv(file_name)"
   ]
  },
  {
   "cell_type": "code",
   "execution_count": 7,
   "metadata": {},
   "outputs": [],
   "source": [
    "# Converting Image Text to CSV file\n",
    "convert(data, 'Label_Images_Submission.csv')\n",
    "convert(data1, 'Images_Submission.csv')"
   ]
  }
 ],
 "metadata": {
  "kernelspec": {
   "display_name": "Python 3",
   "language": "python",
   "name": "python3"
  },
  "language_info": {
   "codemirror_mode": {
    "name": "ipython",
    "version": 3
   },
   "file_extension": ".py",
   "mimetype": "text/x-python",
   "name": "python",
   "nbconvert_exporter": "python",
   "pygments_lexer": "ipython3",
   "version": "3.8.5"
  }
 },
 "nbformat": 4,
 "nbformat_minor": 4
}
